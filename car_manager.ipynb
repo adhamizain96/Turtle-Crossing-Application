{
 "cells": [
  {
   "cell_type": "code",
   "execution_count": 3,
   "id": "501ea82a",
   "metadata": {},
   "outputs": [],
   "source": [
    "import turtle as t\n",
    "import random\n",
    "#constant is a type of variable whose value cannot be changed.\n",
    "#3 primary colors - red, yellow, blue / 3 secondary colors - orange, green, violet\n",
    "COLORS = ['red', 'yellow', 'blue', 'orange', 'green', 'purple']\n",
    "START_MOVE_DIS = 5\n",
    "MOVE_INCREMENT = 10\n",
    "\n",
    "class Car_Manager:\n",
    "    def __init__(self):\n",
    "        #create a list\n",
    "        self.all_cars = []\n",
    "        self.car_speed = START_MOVE_DIS\n",
    "    def create_cars(self):\n",
    "        rand_choice = random.randint(1, 6)\n",
    "        if rand_choice == 1:\n",
    "            new_car = t.Turtle('square')\n",
    "            #t.shapesize() - return or set the pen’s attributes x/y-stretchfactors and/or outline.\n",
    "            #t.shapesize() - stretch_wid = None, stretch_len = None, outline = None\n",
    "            new_car.shapesize(stretch_wid = 1, stretch_len = 2)\n",
    "            #t.penup() - pull the pen up - no drawing when moving.\n",
    "            new_car.penup()\n",
    "            new_car.color(random.choice(COLORS))\n",
    "            rand_y = random.randint(-250, 250)\n",
    "            #t.goto() - move turtle to an absolute position.\n",
    "            new_car.goto(300, rand_y)\n",
    "            self.all_cars.append(new_car)\n",
    "    def move_cars(self):\n",
    "        for car in self.all_cars:\n",
    "            #t.backward() - move the turtle backward by distance, opposite to the direction the turtle is headed.\n",
    "            car.backward(self.car_speed)\n",
    "    def level_up(self):\n",
    "        self.car_speed += MOVE_INCREMENT"
   ]
  },
  {
   "cell_type": "code",
   "execution_count": null,
   "id": "e5a42719",
   "metadata": {},
   "outputs": [],
   "source": []
  }
 ],
 "metadata": {
  "kernelspec": {
   "display_name": "Python 3",
   "language": "python",
   "name": "python3"
  },
  "language_info": {
   "codemirror_mode": {
    "name": "ipython",
    "version": 3
   },
   "file_extension": ".py",
   "mimetype": "text/x-python",
   "name": "python",
   "nbconvert_exporter": "python",
   "pygments_lexer": "ipython3",
   "version": "3.8.8"
  }
 },
 "nbformat": 4,
 "nbformat_minor": 5
}
