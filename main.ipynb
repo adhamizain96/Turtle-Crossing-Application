{
 "cells": [
  {
   "cell_type": "code",
   "execution_count": 1,
   "id": "6afe90c5",
   "metadata": {},
   "outputs": [
    {
     "ename": "ModuleNotFoundError",
     "evalue": "No module named 'player'",
     "output_type": "error",
     "traceback": [
      "\u001b[0;31m---------------------------------------------------------------------------\u001b[0m",
      "\u001b[0;31mModuleNotFoundError\u001b[0m                       Traceback (most recent call last)",
      "\u001b[0;32m<ipython-input-1-cdcc07c96043>\u001b[0m in \u001b[0;36m<module>\u001b[0;34m\u001b[0m\n\u001b[1;32m      1\u001b[0m \u001b[0;32mimport\u001b[0m \u001b[0mturtle\u001b[0m \u001b[0;32mas\u001b[0m \u001b[0mt\u001b[0m\u001b[0;34m\u001b[0m\u001b[0;34m\u001b[0m\u001b[0m\n\u001b[1;32m      2\u001b[0m \u001b[0;32mimport\u001b[0m \u001b[0mtime\u001b[0m\u001b[0;34m\u001b[0m\u001b[0;34m\u001b[0m\u001b[0m\n\u001b[0;32m----> 3\u001b[0;31m \u001b[0;32mfrom\u001b[0m \u001b[0mplayer\u001b[0m \u001b[0;32mimport\u001b[0m \u001b[0mPlayer\u001b[0m\u001b[0;34m\u001b[0m\u001b[0;34m\u001b[0m\u001b[0m\n\u001b[0m\u001b[1;32m      4\u001b[0m \u001b[0;32mfrom\u001b[0m \u001b[0mcar_manager\u001b[0m \u001b[0;32mimport\u001b[0m \u001b[0mCar_Manager\u001b[0m\u001b[0;34m\u001b[0m\u001b[0;34m\u001b[0m\u001b[0m\n\u001b[1;32m      5\u001b[0m \u001b[0;32mfrom\u001b[0m \u001b[0mscoreboard\u001b[0m \u001b[0;32mimport\u001b[0m \u001b[0mScoreboard\u001b[0m\u001b[0;34m\u001b[0m\u001b[0;34m\u001b[0m\u001b[0m\n",
      "\u001b[0;31mModuleNotFoundError\u001b[0m: No module named 'player'"
     ]
    }
   ],
   "source": [
    "import turtle as t\n",
    "import time\n",
    "from player import Player\n",
    "from car_manager import Car_Manager\n",
    "from scoreboard import Scoreboard\n",
    "\n",
    "screen = t.Screen()\n",
    "screen.setup(width = 500, height = 500)\n",
    "#t.tracer() - turn turtle animation on/off and set delay for update drawings.\n",
    "screen.title('Turtle Crossing Game')\n",
    "screen.tracer(0)\n",
    "\n",
    "player = Player()\n",
    "car_manager = Car_Manager()\n",
    "scoreboard = Scoreboard()\n",
    "\n",
    "#t.listen() - set focus on TurtleScreen (in order to collect key-events). \n",
    "screen.listen()\n",
    "#t.onkey() - bind fun to key-release event of key. \n",
    "screen.onkey(player.go_up, 'w')\n",
    "\n",
    "turtle_cross_on = True\n",
    "while turtle_cross_on:\n",
    "    #time.sleep() - suspends execution for the given number of seconds.\n",
    "    #note - adjust speed to make it faster or slower\n",
    "    time.sleep(0.1)\n",
    "    #screen.update() - perform a TurtleScreen update. \n",
    "    screen.update()\n",
    "    car_manager.create_cars()\n",
    "    car_manager.move_cars()\n",
    "    for car in car_manager.all_cars:\n",
    "        #t.distance() - return the distance from the turtle to (x,y), the given vector, or the given other turtle, in turtle step units.\n",
    "        #user loses\n",
    "        if car.distance(player) < 20:\n",
    "            turtle_cross_on = False\n",
    "            scoreboard.game_over()\n",
    "        #user wins\n",
    "        if player.finish_line():\n",
    "            player.start_position()\n",
    "            car_manager.level_up()\n",
    "            scoreboard.increase_level()\n",
    "\n",
    "screen.exitonclick()"
   ]
  },
  {
   "cell_type": "code",
   "execution_count": null,
   "id": "bc08cd85",
   "metadata": {},
   "outputs": [],
   "source": []
  }
 ],
 "metadata": {
  "kernelspec": {
   "display_name": "Python 3",
   "language": "python",
   "name": "python3"
  },
  "language_info": {
   "codemirror_mode": {
    "name": "ipython",
    "version": 3
   },
   "file_extension": ".py",
   "mimetype": "text/x-python",
   "name": "python",
   "nbconvert_exporter": "python",
   "pygments_lexer": "ipython3",
   "version": "3.8.8"
  }
 },
 "nbformat": 4,
 "nbformat_minor": 5
}
