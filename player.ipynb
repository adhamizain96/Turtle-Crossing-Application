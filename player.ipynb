{
 "cells": [
  {
   "cell_type": "code",
   "execution_count": 5,
   "id": "0a8a1ba4",
   "metadata": {},
   "outputs": [],
   "source": [
    "import turtle as t\n",
    "#constant is a type of variable whose value cannot be changed.\n",
    "START_POS = (0, -250)\n",
    "MOVE_DIS = 10\n",
    "FINISH_LINE = 250\n",
    "\n",
    "class Player(t.Turtle):\n",
    "    def __init__(self):\n",
    "        super().__init__()\n",
    "        self.shape('turtle')\n",
    "        self.penup\n",
    "        self.start_position()\n",
    "        self.setheading(100)\n",
    "    def go_up(self):\n",
    "        #t.forward() - move the turtle forward by the specified distance, in the direction the turtle is headed.\n",
    "        self.forward(MOVE_DIS)\n",
    "    def start_position(self):\n",
    "        #t.goto() - move turtle to an absolute position.\n",
    "        self.goto(START_POS)\n",
    "    def finish_line(self):\n",
    "        #user wins\n",
    "        if self.ycor() > FINISH_LINE:\n",
    "            return True\n",
    "        #user loses\n",
    "        else:\n",
    "            return False"
   ]
  },
  {
   "cell_type": "code",
   "execution_count": null,
   "id": "cc340bdb",
   "metadata": {},
   "outputs": [],
   "source": []
  }
 ],
 "metadata": {
  "kernelspec": {
   "display_name": "Python 3",
   "language": "python",
   "name": "python3"
  },
  "language_info": {
   "codemirror_mode": {
    "name": "ipython",
    "version": 3
   },
   "file_extension": ".py",
   "mimetype": "text/x-python",
   "name": "python",
   "nbconvert_exporter": "python",
   "pygments_lexer": "ipython3",
   "version": "3.8.8"
  }
 },
 "nbformat": 4,
 "nbformat_minor": 5
}
