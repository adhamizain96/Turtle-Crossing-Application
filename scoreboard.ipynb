{
 "cells": [
  {
   "cell_type": "code",
   "execution_count": 5,
   "id": "50a255ee",
   "metadata": {},
   "outputs": [],
   "source": [
    "import turtle as t\n",
    "#constant is a type of variable whose value cannot be changed.\n",
    "ALIGNMENT = 'center'\n",
    "FONT = ('Arial', 24, 'normal')\n",
    "\n",
    "class Scoreboard(t.Turtle):\n",
    "    def __init__(self):\n",
    "        super().__init__()\n",
    "        self.level = 1\n",
    "        #t.hideturtle() - make the turtle invisible.\n",
    "        self.hideturtle()\n",
    "        #t.penup() - pull the pen up - no drawing when moving.\n",
    "        self.penup()\n",
    "        #t.goto() - move turtle to an absolute position.\n",
    "        self.goto(-250, 250)\n",
    "        self.update_scoreboard()\n",
    "    def update_scoreboard(self):\n",
    "        self.clear()\n",
    "        self.write(f'Level: {self.level}', align = ALIGNMENT, font = FONT)\n",
    "    def increase_level(self):\n",
    "        self.level += 1\n",
    "        self.update_scoreboard()\n",
    "    def game_over(self):\n",
    "        #user loses\n",
    "        #t.goto() - move turtle to an absolute position.\n",
    "        self.goto(0, 0)\n",
    "        self.write(f'Game Over', align = ALIGNMENT, font = FONT)"
   ]
  },
  {
   "cell_type": "code",
   "execution_count": null,
   "id": "2a2d1e1d",
   "metadata": {},
   "outputs": [],
   "source": []
  }
 ],
 "metadata": {
  "kernelspec": {
   "display_name": "Python 3",
   "language": "python",
   "name": "python3"
  },
  "language_info": {
   "codemirror_mode": {
    "name": "ipython",
    "version": 3
   },
   "file_extension": ".py",
   "mimetype": "text/x-python",
   "name": "python",
   "nbconvert_exporter": "python",
   "pygments_lexer": "ipython3",
   "version": "3.8.8"
  }
 },
 "nbformat": 4,
 "nbformat_minor": 5
}
